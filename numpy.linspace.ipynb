{
 "cells": [
  {
   "cell_type": "code",
   "execution_count": 1,
   "id": "d980de5d",
   "metadata": {},
   "outputs": [],
   "source": [
    "import numpy as np"
   ]
  },
  {
   "cell_type": "code",
   "execution_count": 2,
   "id": "e496ebd8",
   "metadata": {},
   "outputs": [],
   "source": [
    "a = (np.linspace(1,5))"
   ]
  },
  {
   "cell_type": "code",
   "execution_count": 3,
   "id": "4f3e2c6a",
   "metadata": {},
   "outputs": [
    {
     "data": {
      "text/plain": [
       "array([1.        , 1.08163265, 1.16326531, 1.24489796, 1.32653061,\n",
       "       1.40816327, 1.48979592, 1.57142857, 1.65306122, 1.73469388,\n",
       "       1.81632653, 1.89795918, 1.97959184, 2.06122449, 2.14285714,\n",
       "       2.2244898 , 2.30612245, 2.3877551 , 2.46938776, 2.55102041,\n",
       "       2.63265306, 2.71428571, 2.79591837, 2.87755102, 2.95918367,\n",
       "       3.04081633, 3.12244898, 3.20408163, 3.28571429, 3.36734694,\n",
       "       3.44897959, 3.53061224, 3.6122449 , 3.69387755, 3.7755102 ,\n",
       "       3.85714286, 3.93877551, 4.02040816, 4.10204082, 4.18367347,\n",
       "       4.26530612, 4.34693878, 4.42857143, 4.51020408, 4.59183673,\n",
       "       4.67346939, 4.75510204, 4.83673469, 4.91836735, 5.        ])"
      ]
     },
     "execution_count": 3,
     "metadata": {},
     "output_type": "execute_result"
    }
   ],
   "source": [
    "a"
   ]
  },
  {
   "cell_type": "code",
   "execution_count": 4,
   "id": "3390b715",
   "metadata": {},
   "outputs": [],
   "source": [
    "a = (np.linspace(1,10,num=5,dtype=\"int\"))"
   ]
  },
  {
   "cell_type": "code",
   "execution_count": 5,
   "id": "18fc4e62",
   "metadata": {},
   "outputs": [
    {
     "data": {
      "text/plain": [
       "array([ 1,  3,  5,  7, 10])"
      ]
     },
     "execution_count": 5,
     "metadata": {},
     "output_type": "execute_result"
    }
   ],
   "source": [
    "a"
   ]
  },
  {
   "cell_type": "code",
   "execution_count": 6,
   "id": "772e16a1",
   "metadata": {},
   "outputs": [],
   "source": [
    "a = (np.linspace([2,3],[4,6],num=3))"
   ]
  },
  {
   "cell_type": "code",
   "execution_count": 7,
   "id": "42696ecb",
   "metadata": {},
   "outputs": [
    {
     "data": {
      "text/plain": [
       "array([[2. , 3. ],\n",
       "       [3. , 4.5],\n",
       "       [4. , 6. ]])"
      ]
     },
     "execution_count": 7,
     "metadata": {},
     "output_type": "execute_result"
    }
   ],
   "source": [
    "a"
   ]
  },
  {
   "cell_type": "code",
   "execution_count": 8,
   "id": "31269d8a",
   "metadata": {},
   "outputs": [],
   "source": [
    "a = (np.linspace(4,8,num=3))"
   ]
  },
  {
   "cell_type": "code",
   "execution_count": 9,
   "id": "08435db1",
   "metadata": {},
   "outputs": [
    {
     "data": {
      "text/plain": [
       "array([4., 6., 8.])"
      ]
     },
     "execution_count": 9,
     "metadata": {},
     "output_type": "execute_result"
    }
   ],
   "source": [
    "a"
   ]
  },
  {
   "cell_type": "code",
   "execution_count": 10,
   "id": "bdf4deb9",
   "metadata": {},
   "outputs": [],
   "source": [
    "b = (np.linspace(1,5,num=3,dtype=\"int\"))"
   ]
  },
  {
   "cell_type": "code",
   "execution_count": 11,
   "id": "2d7ef54b",
   "metadata": {},
   "outputs": [
    {
     "data": {
      "text/plain": [
       "array([1, 3, 5])"
      ]
     },
     "execution_count": 11,
     "metadata": {},
     "output_type": "execute_result"
    }
   ],
   "source": [
    "b"
   ]
  },
  {
   "cell_type": "code",
   "execution_count": 12,
   "id": "dd0e86ef",
   "metadata": {},
   "outputs": [],
   "source": [
    "c = (np.linspace(3,9,num=4,endpoint=False))"
   ]
  },
  {
   "cell_type": "code",
   "execution_count": 13,
   "id": "878f488c",
   "metadata": {},
   "outputs": [
    {
     "data": {
      "text/plain": [
       "array([3. , 4.5, 6. , 7.5])"
      ]
     },
     "execution_count": 13,
     "metadata": {},
     "output_type": "execute_result"
    }
   ],
   "source": [
    "c"
   ]
  },
  {
   "cell_type": "code",
   "execution_count": 14,
   "id": "e930802b",
   "metadata": {},
   "outputs": [],
   "source": [
    "d = (np.linspace(4,8,num=3,retstep=True))"
   ]
  },
  {
   "cell_type": "code",
   "execution_count": 15,
   "id": "2346a7cf",
   "metadata": {},
   "outputs": [
    {
     "data": {
      "text/plain": [
       "(array([4., 6., 8.]), 2.0)"
      ]
     },
     "execution_count": 15,
     "metadata": {},
     "output_type": "execute_result"
    }
   ],
   "source": [
    "d"
   ]
  },
  {
   "cell_type": "code",
   "execution_count": 16,
   "id": "5d6282b4",
   "metadata": {},
   "outputs": [],
   "source": [
    "a = (np.linspace(1,6,num=3,dtype=\"int\"))"
   ]
  },
  {
   "cell_type": "code",
   "execution_count": 17,
   "id": "2e3bd979",
   "metadata": {},
   "outputs": [
    {
     "data": {
      "text/plain": [
       "array([1, 3, 6])"
      ]
     },
     "execution_count": 17,
     "metadata": {},
     "output_type": "execute_result"
    }
   ],
   "source": [
    "a"
   ]
  },
  {
   "cell_type": "code",
   "execution_count": 18,
   "id": "5c5d0296",
   "metadata": {},
   "outputs": [],
   "source": [
    "y = (np.linspace(-5,5,7))"
   ]
  },
  {
   "cell_type": "code",
   "execution_count": 19,
   "id": "b75ccb34",
   "metadata": {},
   "outputs": [
    {
     "data": {
      "text/plain": [
       "array([-5.        , -3.33333333, -1.66666667,  0.        ,  1.66666667,\n",
       "        3.33333333,  5.        ])"
      ]
     },
     "execution_count": 19,
     "metadata": {},
     "output_type": "execute_result"
    }
   ],
   "source": [
    "y"
   ]
  },
  {
   "cell_type": "code",
   "execution_count": 20,
   "id": "c733c807",
   "metadata": {},
   "outputs": [],
   "source": [
    "b = (np.linspace(1,5,num=5,dtype=\"float\"))"
   ]
  },
  {
   "cell_type": "code",
   "execution_count": 21,
   "id": "cd17cb4a",
   "metadata": {},
   "outputs": [
    {
     "data": {
      "text/plain": [
       "array([1., 2., 3., 4., 5.])"
      ]
     },
     "execution_count": 21,
     "metadata": {},
     "output_type": "execute_result"
    }
   ],
   "source": [
    "b"
   ]
  },
  {
   "cell_type": "code",
   "execution_count": null,
   "id": "39613fd2",
   "metadata": {},
   "outputs": [],
   "source": []
  }
 ],
 "metadata": {
  "kernelspec": {
   "display_name": "Python 3 (ipykernel)",
   "language": "python",
   "name": "python3"
  },
  "language_info": {
   "codemirror_mode": {
    "name": "ipython",
    "version": 3
   },
   "file_extension": ".py",
   "mimetype": "text/x-python",
   "name": "python",
   "nbconvert_exporter": "python",
   "pygments_lexer": "ipython3",
   "version": "3.8.7"
  }
 },
 "nbformat": 4,
 "nbformat_minor": 5
}
